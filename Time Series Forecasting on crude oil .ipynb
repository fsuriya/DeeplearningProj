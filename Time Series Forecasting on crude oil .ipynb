{
 "cells": [
  {
   "cell_type": "code",
   "execution_count": 32,
   "metadata": {},
   "outputs": [
    {
     "data": {
      "text/html": [
       "<div>\n",
       "<style scoped>\n",
       "    .dataframe tbody tr th:only-of-type {\n",
       "        vertical-align: middle;\n",
       "    }\n",
       "\n",
       "    .dataframe tbody tr th {\n",
       "        vertical-align: top;\n",
       "    }\n",
       "\n",
       "    .dataframe thead th {\n",
       "        text-align: right;\n",
       "    }\n",
       "</style>\n",
       "<table border=\"1\" class=\"dataframe\">\n",
       "  <thead>\n",
       "    <tr style=\"text-align: right;\">\n",
       "      <th></th>\n",
       "      <th>Value</th>\n",
       "    </tr>\n",
       "    <tr>\n",
       "      <th>Date</th>\n",
       "      <th></th>\n",
       "    </tr>\n",
       "  </thead>\n",
       "  <tbody>\n",
       "    <tr>\n",
       "      <th>2003-01-02</th>\n",
       "      <td>30.05</td>\n",
       "    </tr>\n",
       "    <tr>\n",
       "      <th>2003-01-03</th>\n",
       "      <td>30.83</td>\n",
       "    </tr>\n",
       "    <tr>\n",
       "      <th>2003-01-06</th>\n",
       "      <td>30.71</td>\n",
       "    </tr>\n",
       "    <tr>\n",
       "      <th>2003-01-07</th>\n",
       "      <td>29.72</td>\n",
       "    </tr>\n",
       "    <tr>\n",
       "      <th>2003-01-08</th>\n",
       "      <td>28.86</td>\n",
       "    </tr>\n",
       "  </tbody>\n",
       "</table>\n",
       "</div>"
      ],
      "text/plain": [
       "            Value\n",
       "Date             \n",
       "2003-01-02  30.05\n",
       "2003-01-03  30.83\n",
       "2003-01-06  30.71\n",
       "2003-01-07  29.72\n",
       "2003-01-08  28.86"
      ]
     },
     "execution_count": 32,
     "metadata": {},
     "output_type": "execute_result"
    }
   ],
   "source": [
    "import types\n",
    "import pandas as pd\n",
    "import quandl # import data\n",
    "\n",
    "df_data_1 = quandl.get(\"OPEC/ORB\", start_date=\"2003-01-01\", end_date=\"2020-06-30\")\n",
    "df_data_1.head()\n"
   ]
  },
  {
   "cell_type": "markdown",
   "metadata": {},
   "source": [
    "Data Source\n",
    "\n",
    "U.S. Energy Information Administration, Crude Oil Prices: Brent - Europe [DCOILBRENTEU], retrieved from FRED, Federal Reserve Bank of St. Louis; https://fred.stlouisfed.org/series/DCOILBRENTEU, January 10, 2018."
   ]
  },
  {
   "cell_type": "code",
   "execution_count": 58,
   "metadata": {
    "scrolled": true
   },
   "outputs": [
    {
     "name": "stdout",
     "output_type": "stream",
     "text": [
      "(4512, 1)\n",
      "            Value\n",
      "Date             \n",
      "2003-01-02  30.05\n",
      "2003-01-03  30.83\n",
      "2003-01-06  30.71\n",
      "2003-01-07  29.72\n",
      "2003-01-08  28.86\n",
      "...           ...\n",
      "2020-06-24  38.17\n",
      "2020-06-25  37.18\n",
      "2020-06-26  37.99\n",
      "2020-06-29  37.34\n",
      "2020-06-30  38.22\n",
      "\n",
      "[4512 rows x 1 columns]\n"
     ]
    }
   ],
   "source": [
    "# if data has missing values use below code\n",
    "# df_data_1 = df_data_1[df_data_1 != \".\"] \n",
    "print (df_data_1.shape)\n",
    "print(df_data_1)"
   ]
  },
  {
   "cell_type": "code",
   "execution_count": 59,
   "metadata": {},
   "outputs": [
    {
     "data": {
      "image/png": "[encoded data removed]",
      "text/plain": [
       "<Figure size 432x288 with 1 Axes>"
      ]
     },
     "metadata": {
      "needs_background": "light"
     },
     "output_type": "display_data"
    }
   ],
   "source": [
    "import matplotlib.pyplot as plt\n",
    "df_data_1_plot = df_data_1.values\n",
    "# print(df_data_1_plot)\n",
    "# for i in range(len(df_data_1_plot)):\n",
    "#     df_data_1_plot[i][0] = float(df_data_1_plot[i][0])\n",
    "# Visualising the Data\n",
    "plt.plot(df_data_1_plot, color = 'red', label = 'Crude Oil Prices')\n",
    "plt.title('Crude Oil Prices Historical Data')\n",
    "plt.xlabel('Time (Days)')\n",
    "plt.ylabel('Crude Oil Prices')\n",
    "plt.legend()\n",
    "plt.show()"
   ]
  },
  {
   "cell_type": "code",
   "execution_count": 60,
   "metadata": {},
   "outputs": [],
   "source": [
    "#import packages\n",
    "import numpy as np\n",
    "import pandas as pd\n",
    "import tensorflow as tf\n",
    "from tensorflow.keras.preprocessing import sequence\n",
    "from tensorflow.keras.models import load_model"
   ]
  },
  {
   "cell_type": "code",
   "execution_count": 61,
   "metadata": {},
   "outputs": [],
   "source": [
    "# defining the batch size and number of epochs\n",
    "batch_size = 64\n",
    "epochs = 200\n",
    "timesteps = 5"
   ]
  },
  {
   "cell_type": "code",
   "execution_count": 62,
   "metadata": {},
   "outputs": [
    {
     "name": "stdout",
     "output_type": "stream",
     "text": [
      "4512\n",
      "4060.8\n"
     ]
    }
   ],
   "source": [
    "length = len(df_data_1)\n",
    "print (length)\n",
    "\n",
    "#test set will be 10% of entire data set  \n",
    "length *= 1 - 0.1\n",
    "print (length)"
   ]
  },
  {
   "cell_type": "code",
   "execution_count": 63,
   "metadata": {},
   "outputs": [],
   "source": [
    "#get the length of training data set \n",
    "def get_train_length(dataset, batch_size, test_percent):\n",
    "    # substract test_percent to be excluded from training, reserved for testset\n",
    "    length = len(dataset)\n",
    "    length *= 1 - test_percent\n",
    "    train_length_values = []\n",
    "    for x in range(int(length) - 100,int(length)): \n",
    "        modulo=x%batch_size\n",
    "        if (modulo == 0):\n",
    "            train_length_values.append(x)\n",
    "            print (x)\n",
    "    return (max(train_length_values))"
   ]
  },
  {
   "cell_type": "code",
   "execution_count": 64,
   "metadata": {},
   "outputs": [
    {
     "name": "stdout",
     "output_type": "stream",
     "text": [
      "3968\n",
      "4032\n",
      "4032\n"
     ]
    }
   ],
   "source": [
    "length = get_train_length(df_data_1, batch_size, 0.1)\n",
    "print (length)"
   ]
  },
  {
   "cell_type": "code",
   "execution_count": 65,
   "metadata": {},
   "outputs": [
    {
     "data": {
      "text/plain": [
       "(4042, 1)"
      ]
     },
     "execution_count": 65,
     "metadata": {},
     "output_type": "execute_result"
    }
   ],
   "source": [
    "#Adding timesteps * 2\n",
    "upper_train = length + timesteps*2\n",
    "df_data_1_train = df_data_1[0:upper_train]\n",
    "training_set = df_data_1_train.values\n",
    "training_set.shape"
   ]
  },
  {
   "cell_type": "code",
   "execution_count": 66,
   "metadata": {},
   "outputs": [
    {
     "data": {
      "text/plain": [
       "(4042, 1)"
      ]
     },
     "execution_count": 66,
     "metadata": {},
     "output_type": "execute_result"
    }
   ],
   "source": [
    "# Feature Scaling i.e we scale each and every value between 0 and 1 \n",
    "from sklearn.preprocessing import MinMaxScaler\n",
    "sc = MinMaxScaler(feature_range = (0, 1))\n",
    "training_set_scaled = sc.fit_transform(np.float64(training_set))\n",
    "training_set_scaled.shape"
   ]
  },
  {
   "cell_type": "code",
   "execution_count": 67,
   "metadata": {},
   "outputs": [
    {
     "name": "stdout",
     "output_type": "stream",
     "text": [
      "4037\n",
      "4032\n",
      "4032\n",
      "(4032, 5)\n",
      "(4032, 5)\n"
     ]
    }
   ],
   "source": [
    "X_train = []\n",
    "y_train = []\n",
    "\n",
    "# Creating a data structure with n timesteps\n",
    "\n",
    "print (length + timesteps)\n",
    "for i in range(timesteps, length + timesteps): \n",
    "    X_train.append(training_set_scaled[i-timesteps:i,0])\n",
    "    y_train.append(training_set_scaled[i:i+timesteps,0])\n",
    "\n",
    "print (len(X_train))\n",
    "print (len (y_train))\n",
    "print (np.array(X_train).shape)\n",
    "print (np.array(y_train).shape)"
   ]
  },
  {
   "cell_type": "code",
   "execution_count": 68,
   "metadata": {},
   "outputs": [
    {
     "name": "stdout",
     "output_type": "stream",
     "text": [
      "(4032, 5, 1)\n",
      "(4032, 5, 1)\n"
     ]
    }
   ],
   "source": [
    "# Reshaping\n",
    "X_train, y_train = np.array(X_train), np.array(y_train)\n",
    "X_train = np.reshape(X_train, (X_train.shape[0], X_train.shape[1], 1))\n",
    "y_train = np.reshape(y_train, (y_train.shape[0], y_train.shape[1], 1))\n",
    "print (X_train.shape)\n",
    "print (y_train.shape)"
   ]
  },
  {
   "cell_type": "code",
   "execution_count": 69,
   "metadata": {},
   "outputs": [],
   "source": [
    "# Building the LSTM\n",
    "# Importing the Keras libraries and packages\n",
    "\n",
    "from tensorflow.keras.layers import Dense\n",
    "from tensorflow.keras.layers import Input, LSTM\n",
    "from tensorflow.keras.models import Model\n",
    "import h5py"
   ]
  },
  {
   "cell_type": "code",
   "execution_count": 70,
   "metadata": {},
   "outputs": [
    {
     "name": "stdout",
     "output_type": "stream",
     "text": [
      "Model: \"model_2\"\n",
      "_________________________________________________________________\n",
      "Layer (type)                 Output Shape              Param #   \n",
      "=================================================================\n",
      "input_3 (InputLayer)         [(64, 5, 1)]              0         \n",
      "_________________________________________________________________\n",
      "lstm_4 (LSTM)                (64, 5, 10)               480       \n",
      "_________________________________________________________________\n",
      "lstm_5 (LSTM)                (64, 5, 10)               840       \n",
      "_________________________________________________________________\n",
      "dense_2 (Dense)              (64, 5, 1)                11        \n",
      "=================================================================\n",
      "Total params: 1,331\n",
      "Trainable params: 1,331\n",
      "Non-trainable params: 0\n",
      "_________________________________________________________________\n"
     ]
    }
   ],
   "source": [
    "# Initialising the LSTM Model with MAE Loss-Function\n",
    "# Using Functional API\n",
    "\n",
    "inputs_1_mae = Input(batch_shape=(batch_size,timesteps,1))\n",
    "lstm_1_mae = LSTM(10, stateful=True, return_sequences=True)(inputs_1_mae)\n",
    "lstm_2_mae = LSTM(10, stateful=True, return_sequences=True)(lstm_1_mae)\n",
    "\n",
    "output_1_mae = Dense(units = 1)(lstm_2_mae)\n",
    "\n",
    "regressor_mae = Model(inputs=inputs_1_mae, outputs = output_1_mae)\n",
    "\n",
    "regressor_mae.compile(optimizer='adam', loss = 'mae')\n",
    "regressor_mae.summary()"
   ]
  },
  {
   "cell_type": "code",
   "execution_count": 71,
   "metadata": {},
   "outputs": [
    {
     "name": "stdout",
     "output_type": "stream",
     "text": [
      "480\n"
     ]
    }
   ],
   "source": [
    "# 1st LSTM Layer \n",
    "parameters = 4 * 10 * (1 + 10 + 1)\n",
    "print (parameters)"
   ]
  },
  {
   "cell_type": "code",
   "execution_count": 72,
   "metadata": {},
   "outputs": [
    {
     "name": "stdout",
     "output_type": "stream",
     "text": [
      "840\n"
     ]
    }
   ],
   "source": [
    "# 2nd LSTM Layer \n",
    "parameters = 4 * 10 * (10 + 10 + 1)\n",
    "print( parameters)"
   ]
  },
  {
   "cell_type": "code",
   "execution_count": 73,
   "metadata": {},
   "outputs": [
    {
     "name": "stdout",
     "output_type": "stream",
     "text": [
      "Epoch: 200\n",
      "Epoch: 0\n",
      "4032/4032 [==============================] - 2s 566us/sample - loss: 0.0783\n",
      "Epoch: 1\n",
      "4032/4032 [==============================] - 1s 296us/sample - loss: 0.0740\n",
      "Epoch: 2\n",
      "4032/4032 [==============================] - 1s 284us/sample - loss: 0.0696\n",
      "Epoch: 3\n",
      "4032/4032 [==============================] - 1s 259us/sample - loss: 0.0652\n",
      "Epoch: 4\n",
      "4032/4032 [==============================] - 1s 253us/sample - loss: 0.0611\n",
      "Epoch: 5\n",
      "4032/4032 [==============================] - 1s 249us/sample - loss: 0.0584s - loss: 0.05\n",
      "Epoch: 6\n",
      "4032/4032 [==============================] - 1s 250us/sample - loss: 0.0565\n",
      "Epoch: 7\n",
      "4032/4032 [==============================] - 1s 293us/sample - loss: 0.0562\n",
      "Epoch: 8\n",
      "4032/4032 [==============================] - 1s 285us/sample - loss: 0.0583\n",
      "Epoch: 9\n",
      "4032/4032 [==============================] - 1s 250us/sample - loss: 0.0578\n",
      "Epoch: 10\n",
      "4032/4032 [==============================] - 1s 250us/sample - loss: 0.0578\n",
      "Epoch: 11\n",
      "4032/4032 [==============================] - 1s 250us/sample - loss: 0.0582\n",
      "Epoch: 12\n",
      "4032/4032 [==============================] - 1s 268us/sample - loss: 0.0589\n",
      "Epoch: 13\n",
      "4032/4032 [==============================] - 1s 271us/sample - loss: 0.0595\n",
      "Epoch: 14\n",
      "4032/4032 [==============================] - 1s 254us/sample - loss: 0.0586\n",
      "Epoch: 15\n",
      "4032/4032 [==============================] - 1s 254us/sample - loss: 0.0567\n",
      "Epoch: 16\n",
      "4032/4032 [==============================] - 1s 256us/sample - loss: 0.0540\n",
      "Epoch: 17\n",
      "4032/4032 [==============================] - 1s 257us/sample - loss: 0.0512\n",
      "Epoch: 18\n",
      "4032/4032 [==============================] - 1s 273us/sample - loss: 0.0492\n",
      "Epoch: 19\n",
      "4032/4032 [==============================] - 1s 252us/sample - loss: 0.0479\n",
      "Epoch: 20\n",
      "4032/4032 [==============================] - 1s 253us/sample - loss: 0.0466\n",
      "Epoch: 21\n",
      "4032/4032 [==============================] - 1s 251us/sample - loss: 0.0457\n",
      "Epoch: 22\n",
      "4032/4032 [==============================] - 1s 254us/sample - loss: 0.0446\n",
      "Epoch: 23\n",
      "4032/4032 [==============================] - 1s 282us/sample - loss: 0.0435\n",
      "Epoch: 24\n",
      "4032/4032 [==============================] - 1s 264us/sample - loss: 0.0422\n",
      "Epoch: 25\n",
      "4032/4032 [==============================] - 1s 254us/sample - loss: 0.0408\n",
      "Epoch: 26\n",
      "4032/4032 [==============================] - 1s 255us/sample - loss: 0.0395\n",
      "Epoch: 27\n",
      "4032/4032 [==============================] - 1s 254us/sample - loss: 0.0379\n",
      "Epoch: 28\n",
      "4032/4032 [==============================] - 1s 247us/sample - loss: 0.0361\n",
      "Epoch: 29\n",
      "4032/4032 [==============================] - 1s 260us/sample - loss: 0.0343\n",
      "Epoch: 30\n",
      "4032/4032 [==============================] - 1s 255us/sample - loss: 0.0326\n",
      "Epoch: 31\n",
      "4032/4032 [==============================] - 1s 252us/sample - loss: 0.0310\n",
      "Epoch: 32\n",
      "4032/4032 [==============================] - 1s 247us/sample - loss: 0.0296\n",
      "Epoch: 33\n",
      "4032/4032 [==============================] - 1s 245us/sample - loss: 0.0285\n",
      "Epoch: 34\n",
      "4032/4032 [==============================] - 1s 245us/sample - loss: 0.0276\n",
      "Epoch: 35\n",
      "4032/4032 [==============================] - 1s 264us/sample - loss: 0.0268\n",
      "Epoch: 36\n",
      "4032/4032 [==============================] - 1s 249us/sample - loss: 0.0262\n",
      "Epoch: 37\n",
      "4032/4032 [==============================] - 1s 241us/sample - loss: 0.0259\n",
      "Epoch: 38\n",
      "4032/4032 [==============================] - 1s 259us/sample - loss: 0.0256\n",
      "Epoch: 39\n",
      "4032/4032 [==============================] - 1s 256us/sample - loss: 0.0253\n",
      "Epoch: 40\n",
      "4032/4032 [==============================] - 1s 250us/sample - loss: 0.0251\n",
      "Epoch: 41\n",
      "4032/4032 [==============================] - 1s 266us/sample - loss: 0.0247\n",
      "Epoch: 42\n",
      "4032/4032 [==============================] - 1s 246us/sample - loss: 0.0244\n",
      "Epoch: 43\n",
      "4032/4032 [==============================] - 1s 238us/sample - loss: 0.0239\n",
      "Epoch: 44\n",
      "4032/4032 [==============================] - 1s 242us/sample - loss: 0.0235\n",
      "Epoch: 45\n",
      "4032/4032 [==============================] - 1s 251us/sample - loss: 0.0230\n",
      "Epoch: 46\n",
      "4032/4032 [==============================] - 1s 270us/sample - loss: 0.0225\n",
      "Epoch: 47\n",
      "4032/4032 [==============================] - 1s 296us/sample - loss: 0.0221\n",
      "Epoch: 48\n",
      "4032/4032 [==============================] - 1s 286us/sample - loss: 0.0216\n",
      "Epoch: 49\n",
      "4032/4032 [==============================] - 1s 268us/sample - loss: 0.0213\n",
      "Epoch: 50\n",
      "4032/4032 [==============================] - 1s 243us/sample - loss: 0.0210\n",
      "Epoch: 51\n",
      "4032/4032 [==============================] - 1s 244us/sample - loss: 0.0207\n",
      "Epoch: 52\n",
      "4032/4032 [==============================] - 1s 254us/sample - loss: 0.0205\n",
      "Epoch: 53\n",
      "4032/4032 [==============================] - 1s 259us/sample - loss: 0.0203\n",
      "Epoch: 54\n",
      "4032/4032 [==============================] - 1s 258us/sample - loss: 0.0201\n",
      "Epoch: 55\n",
      "4032/4032 [==============================] - 1s 237us/sample - loss: 0.0199\n",
      "Epoch: 56\n",
      "4032/4032 [==============================] - 1s 242us/sample - loss: 0.0199\n",
      "Epoch: 57\n",
      "4032/4032 [==============================] - 1s 241us/sample - loss: 0.0197\n",
      "Epoch: 58\n",
      "4032/4032 [==============================] - 1s 257us/sample - loss: 0.0194\n",
      "Epoch: 59\n",
      "4032/4032 [==============================] - 1s 243us/sample - loss: 0.0195\n",
      "Epoch: 60\n",
      "4032/4032 [==============================] - 1s 241us/sample - loss: 0.0196\n",
      "Epoch: 61\n",
      "4032/4032 [==============================] - 1s 239us/sample - loss: 0.0194\n",
      "Epoch: 62\n",
      "4032/4032 [==============================] - 1s 238us/sample - loss: 0.0192\n",
      "Epoch: 63\n",
      "4032/4032 [==============================] - 1s 237us/sample - loss: 0.0195\n",
      "Epoch: 64\n",
      "4032/4032 [==============================] - 1s 258us/sample - loss: 0.0195\n",
      "Epoch: 65\n",
      "4032/4032 [==============================] - 1s 241us/sample - loss: 0.0190\n",
      "Epoch: 66\n",
      "4032/4032 [==============================] - 1s 237us/sample - loss: 0.0193\n",
      "Epoch: 67\n",
      "4032/4032 [==============================] - 1s 241us/sample - loss: 0.0198\n",
      "Epoch: 68\n",
      "4032/4032 [==============================] - 1s 243us/sample - loss: 0.0199\n",
      "Epoch: 69\n",
      "4032/4032 [==============================] - 1s 244us/sample - loss: 0.0191\n",
      "Epoch: 70\n",
      "4032/4032 [==============================] - 1s 299us/sample - loss: 0.0195\n",
      "Epoch: 71\n",
      "4032/4032 [==============================] - 1s 239us/sample - loss: 0.0201\n",
      "Epoch: 72\n",
      "4032/4032 [==============================] - 1s 238us/sample - loss: 0.0199\n",
      "Epoch: 73\n",
      "4032/4032 [==============================] - 1s 244us/sample - loss: 0.0190\n",
      "Epoch: 74\n",
      "4032/4032 [==============================] - 1s 241us/sample - loss: 0.0195\n",
      "Epoch: 75\n",
      "4032/4032 [==============================] - 1s 239us/sample - loss: 0.0198\n",
      "Epoch: 76\n",
      "4032/4032 [==============================] - 1s 261us/sample - loss: 0.0199\n",
      "Epoch: 77\n",
      "4032/4032 [==============================] - 1s 238us/sample - loss: 0.0189\n",
      "Epoch: 78\n",
      "4032/4032 [==============================] - 1s 235us/sample - loss: 0.0194\n",
      "Epoch: 79\n",
      "4032/4032 [==============================] - 1s 238us/sample - loss: 0.0198\n",
      "Epoch: 80\n",
      "4032/4032 [==============================] - 1s 240us/sample - loss: 0.0197\n",
      "Epoch: 81\n",
      "4032/4032 [==============================] - 1s 240us/sample - loss: 0.0188\n",
      "Epoch: 82\n",
      "4032/4032 [==============================] - 1s 262us/sample - loss: 0.0192s - loss: 0\n",
      "Epoch: 83\n",
      "4032/4032 [==============================] - 1s 240us/sample - loss: 0.0196\n",
      "Epoch: 84\n",
      "4032/4032 [==============================] - 1s 238us/sample - loss: 0.0193\n",
      "Epoch: 85\n",
      "4032/4032 [==============================] - 1s 238us/sample - loss: 0.0187\n",
      "Epoch: 86\n",
      "4032/4032 [==============================] - 1s 267us/sample - loss: 0.0188\n",
      "Epoch: 87\n",
      "4032/4032 [==============================] - 1s 239us/sample - loss: 0.0191\n",
      "Epoch: 88\n",
      "4032/4032 [==============================] - 1s 260us/sample - loss: 0.0195\n",
      "Epoch: 89\n",
      "4032/4032 [==============================] - 1s 245us/sample - loss: 0.0189\n",
      "Epoch: 90\n",
      "4032/4032 [==============================] - 1s 244us/sample - loss: 0.0187\n",
      "Epoch: 91\n",
      "4032/4032 [==============================] - 1s 240us/sample - loss: 0.0188\n",
      "Epoch: 92\n",
      "4032/4032 [==============================] - 1s 243us/sample - loss: 0.0191\n",
      "Epoch: 93\n",
      "4032/4032 [==============================] - 1s 239us/sample - loss: 0.0190\n",
      "Epoch: 94\n",
      "4032/4032 [==============================] - 1s 260us/sample - loss: 0.0188\n"
     ]
    },
    {
     "name": "stdout",
     "output_type": "stream",
     "text": [
      "Epoch: 95\n",
      "4032/4032 [==============================] - 1s 244us/sample - loss: 0.0188\n",
      "Epoch: 96\n",
      "4032/4032 [==============================] - 1s 236us/sample - loss: 0.0189\n",
      "Epoch: 97\n",
      "4032/4032 [==============================] - 1s 235us/sample - loss: 0.0188\n",
      "Epoch: 98\n",
      "4032/4032 [==============================] - 1s 236us/sample - loss: 0.0187\n",
      "Epoch: 99\n",
      "4032/4032 [==============================] - 1s 240us/sample - loss: 0.0188\n",
      "Epoch: 100\n",
      "4032/4032 [==============================] - 1s 259us/sample - loss: 0.0187\n",
      "Epoch: 101\n",
      "4032/4032 [==============================] - 1s 236us/sample - loss: 0.0187\n",
      "Epoch: 102\n",
      "4032/4032 [==============================] - 1s 271us/sample - loss: 0.0187\n",
      "Epoch: 103\n",
      "4032/4032 [==============================] - 1s 238us/sample - loss: 0.0187\n",
      "Epoch: 104\n",
      "4032/4032 [==============================] - 1s 239us/sample - loss: 0.0185\n",
      "Epoch: 105\n",
      "4032/4032 [==============================] - 1s 240us/sample - loss: 0.0188\n",
      "Epoch: 106\n",
      "4032/4032 [==============================] - 1s 254us/sample - loss: 0.0186\n",
      "Epoch: 107\n",
      "4032/4032 [==============================] - 1s 235us/sample - loss: 0.0184\n",
      "Epoch: 108\n",
      "4032/4032 [==============================] - 1s 252us/sample - loss: 0.0189\n",
      "Epoch: 109\n",
      "4032/4032 [==============================] - 1s 235us/sample - loss: 0.0189s - loss: 0.01\n",
      "Epoch: 110\n",
      "4032/4032 [==============================] - 1s 238us/sample - loss: 0.0184\n",
      "Epoch: 111\n",
      "4032/4032 [==============================] - 1s 245us/sample - loss: 0.0184\n",
      "Epoch: 112\n",
      "4032/4032 [==============================] - 1s 253us/sample - loss: 0.0186\n",
      "Epoch: 113\n",
      "4032/4032 [==============================] - 1s 239us/sample - loss: 0.0188\n",
      "Epoch: 114\n",
      "4032/4032 [==============================] - 1s 236us/sample - loss: 0.0184\n",
      "Epoch: 115\n",
      "4032/4032 [==============================] - 1s 234us/sample - loss: 0.0183\n",
      "Epoch: 116\n",
      "4032/4032 [==============================] - 1s 238us/sample - loss: 0.0187\n",
      "Epoch: 117\n",
      "4032/4032 [==============================] - 1s 234us/sample - loss: 0.0187\n",
      "Epoch: 118\n",
      "4032/4032 [==============================] - 1s 317us/sample - loss: 0.0183\n",
      "Epoch: 119\n",
      "4032/4032 [==============================] - 1s 278us/sample - loss: 0.0182s\n",
      "Epoch: 120\n",
      "4032/4032 [==============================] - 1s 247us/sample - loss: 0.0186\n",
      "Epoch: 121\n",
      "4032/4032 [==============================] - 1s 244us/sample - loss: 0.0190\n",
      "Epoch: 122\n",
      "4032/4032 [==============================] - 1s 268us/sample - loss: 0.0182\n",
      "Epoch: 123\n",
      "4032/4032 [==============================] - 1s 312us/sample - loss: 0.0184\n",
      "Epoch: 124\n",
      "4032/4032 [==============================] - 1s 274us/sample - loss: 0.0183\n",
      "Epoch: 125\n",
      "4032/4032 [==============================] - 1s 246us/sample - loss: 0.0182\n",
      "Epoch: 126\n",
      "4032/4032 [==============================] - 1s 244us/sample - loss: 0.0183\n",
      "Epoch: 127\n",
      "4032/4032 [==============================] - 1s 242us/sample - loss: 0.0183\n",
      "Epoch: 128\n",
      "4032/4032 [==============================] - 1s 243us/sample - loss: 0.0184\n",
      "Epoch: 129\n",
      "4032/4032 [==============================] - 1s 270us/sample - loss: 0.0183\n",
      "Epoch: 130\n",
      "4032/4032 [==============================] - 1s 238us/sample - loss: 0.0186\n",
      "Epoch: 131\n",
      "4032/4032 [==============================] - 1s 241us/sample - loss: 0.0181\n",
      "Epoch: 132\n",
      "4032/4032 [==============================] - 1s 245us/sample - loss: 0.0184\n",
      "Epoch: 133\n",
      "4032/4032 [==============================] - 1s 269us/sample - loss: 0.0182\n",
      "Epoch: 134\n",
      "4032/4032 [==============================] - 1s 257us/sample - loss: 0.0183\n",
      "Epoch: 135\n",
      "4032/4032 [==============================] - 1s 268us/sample - loss: 0.0183\n",
      "Epoch: 136\n",
      "4032/4032 [==============================] - 1s 237us/sample - loss: 0.0183\n",
      "Epoch: 137\n",
      "4032/4032 [==============================] - 1s 239us/sample - loss: 0.0182\n",
      "Epoch: 138\n",
      "4032/4032 [==============================] - 1s 243us/sample - loss: 0.0182\n",
      "Epoch: 139\n",
      "4032/4032 [==============================] - 1s 272us/sample - loss: 0.0183\n",
      "Epoch: 140\n",
      "4032/4032 [==============================] - 1s 279us/sample - loss: 0.0184\n",
      "Epoch: 141\n",
      "4032/4032 [==============================] - 1s 282us/sample - loss: 0.0185\n",
      "Epoch: 142\n",
      "4032/4032 [==============================] - 1s 279us/sample - loss: 0.0184\n",
      "Epoch: 143\n",
      "4032/4032 [==============================] - 1s 252us/sample - loss: 0.0187\n",
      "Epoch: 144\n",
      "4032/4032 [==============================] - 1s 244us/sample - loss: 0.0185\n",
      "Epoch: 145\n",
      "4032/4032 [==============================] - 1s 239us/sample - loss: 0.0185\n",
      "Epoch: 146\n",
      "4032/4032 [==============================] - 1s 263us/sample - loss: 0.0186\n",
      "Epoch: 147\n",
      "4032/4032 [==============================] - 1s 250us/sample - loss: 0.0186\n",
      "Epoch: 148\n",
      "4032/4032 [==============================] - 1s 250us/sample - loss: 0.0189\n",
      "Epoch: 149\n",
      "4032/4032 [==============================] - 1s 261us/sample - loss: 0.0188\n",
      "Epoch: 150\n",
      "4032/4032 [==============================] - 1s 246us/sample - loss: 0.0190\n",
      "Epoch: 151\n",
      "4032/4032 [==============================] - 1s 242us/sample - loss: 0.0191\n",
      "Epoch: 152\n",
      "4032/4032 [==============================] - 1s 263us/sample - loss: 0.0189\n",
      "Epoch: 153\n",
      "4032/4032 [==============================] - 1s 236us/sample - loss: 0.0192\n",
      "Epoch: 154\n",
      "4032/4032 [==============================] - 1s 248us/sample - loss: 0.0193\n",
      "Epoch: 155\n",
      "4032/4032 [==============================] - 1s 243us/sample - loss: 0.0200\n",
      "Epoch: 156\n",
      "4032/4032 [==============================] - 1s 253us/sample - loss: 0.0198\n",
      "Epoch: 157\n",
      "4032/4032 [==============================] - 1s 282us/sample - loss: 0.0205\n",
      "Epoch: 158\n",
      "4032/4032 [==============================] - 1s 270us/sample - loss: 0.0205\n",
      "Epoch: 159\n",
      "4032/4032 [==============================] - 1s 274us/sample - loss: 0.0210\n",
      "Epoch: 160\n",
      "4032/4032 [==============================] - 1s 262us/sample - loss: 0.0212\n",
      "Epoch: 161\n",
      "4032/4032 [==============================] - 1s 239us/sample - loss: 0.0220\n",
      "Epoch: 162\n",
      "4032/4032 [==============================] - 1s 240us/sample - loss: 0.0227\n",
      "Epoch: 163\n",
      "4032/4032 [==============================] - 1s 263us/sample - loss: 0.0243\n",
      "Epoch: 164\n",
      "4032/4032 [==============================] - 1s 342us/sample - loss: 0.0264\n",
      "Epoch: 165\n",
      "4032/4032 [==============================] - 1s 273us/sample - loss: 0.0235\n",
      "Epoch: 166\n",
      "4032/4032 [==============================] - 1s 258us/sample - loss: 0.0250\n",
      "Epoch: 167\n",
      "4032/4032 [==============================] - 1s 260us/sample - loss: 0.0268\n",
      "Epoch: 168\n",
      "4032/4032 [==============================] - 1s 259us/sample - loss: 0.0268\n",
      "Epoch: 169\n",
      "4032/4032 [==============================] - 1s 290us/sample - loss: 0.0273\n",
      "Epoch: 170\n",
      "4032/4032 [==============================] - 1s 250us/sample - loss: 0.0274\n",
      "Epoch: 171\n",
      "4032/4032 [==============================] - 1s 244us/sample - loss: 0.0267s - loss: 0.\n",
      "Epoch: 172\n",
      "4032/4032 [==============================] - 1s 237us/sample - loss: 0.0259\n",
      "Epoch: 173\n",
      "4032/4032 [==============================] - 1s 258us/sample - loss: 0.0251\n",
      "Epoch: 174\n",
      "4032/4032 [==============================] - 1s 276us/sample - loss: 0.0246\n",
      "Epoch: 175\n",
      "4032/4032 [==============================] - 1s 270us/sample - loss: 0.0241\n",
      "Epoch: 176\n",
      "4032/4032 [==============================] - 1s 245us/sample - loss: 0.0239s - loss: 0.02\n",
      "Epoch: 177\n",
      "4032/4032 [==============================] - 1s 259us/sample - loss: 0.0238\n",
      "Epoch: 178\n",
      "4032/4032 [==============================] - 1s 355us/sample - loss: 0.0236\n",
      "Epoch: 179\n",
      "4032/4032 [==============================] - 1s 304us/sample - loss: 0.0235\n",
      "Epoch: 180\n",
      "4032/4032 [==============================] - 1s 258us/sample - loss: 0.0235\n",
      "Epoch: 181\n",
      "4032/4032 [==============================] - 1s 246us/sample - loss: 0.0235\n",
      "Epoch: 182\n",
      "4032/4032 [==============================] - 1s 248us/sample - loss: 0.0234\n",
      "Epoch: 183\n",
      "4032/4032 [==============================] - 1s 252us/sample - loss: 0.0234\n",
      "Epoch: 184\n",
      "4032/4032 [==============================] - 1s 251us/sample - loss: 0.0234\n",
      "Epoch: 185\n",
      "4032/4032 [==============================] - 1s 268us/sample - loss: 0.0234\n",
      "Epoch: 186\n",
      "4032/4032 [==============================] - 1s 260us/sample - loss: 0.0234s - los - ETA: 0s - loss: 0.\n",
      "Epoch: 187\n",
      "4032/4032 [==============================] - 1s 252us/sample - loss: 0.0234\n",
      "Epoch: 188\n"
     ]
    },
    {
     "name": "stdout",
     "output_type": "stream",
     "text": [
      "4032/4032 [==============================] - 1s 247us/sample - loss: 0.0234\n",
      "Epoch: 189\n",
      "4032/4032 [==============================] - 1s 244us/sample - loss: 0.0234\n",
      "Epoch: 190\n",
      "4032/4032 [==============================] - 1s 239us/sample - loss: 0.0234\n",
      "Epoch: 191\n",
      "4032/4032 [==============================] - 1s 265us/sample - loss: 0.0233\n",
      "Epoch: 192\n",
      "4032/4032 [==============================] - 1s 247us/sample - loss: 0.0233\n",
      "Epoch: 193\n",
      "4032/4032 [==============================] - 1s 242us/sample - loss: 0.0232\n",
      "Epoch: 194\n",
      "4032/4032 [==============================] - 1s 279us/sample - loss: 0.0232\n",
      "Epoch: 195\n",
      "4032/4032 [==============================] - 1s 247us/sample - loss: 0.0231\n",
      "Epoch: 196\n",
      "4032/4032 [==============================] - 1s 242us/sample - loss: 0.0232\n",
      "Epoch: 197\n",
      "4032/4032 [==============================] - 1s 270us/sample - loss: 0.0229\n",
      "Epoch: 198\n",
      "4032/4032 [==============================] - 1s 245us/sample - loss: 0.0230\n",
      "Epoch: 199\n",
      "4032/4032 [==============================] - 1s 244us/sample - loss: 0.0228\n"
     ]
    }
   ],
   "source": [
    "print(\"Epoch: \" + str(epochs))\n",
    "for i in range(epochs):\n",
    "    print(\"Epoch: \" + str(i))\n",
    "    regressor_mae.fit(X_train, y_train, shuffle=False, epochs = 1, batch_size = batch_size)\n",
    "    regressor_mae.reset_states()"
   ]
  },
  {
   "cell_type": "code",
   "execution_count": 74,
   "metadata": {},
   "outputs": [],
   "source": [
    "def get_test_length(dataset, batch_size):\n",
    "    \n",
    "    test_length_values = []\n",
    "    for x in range(len(dataset) - 200, len(dataset) - timesteps*2): \n",
    "        modulo=(x-upper_train)%batch_size\n",
    "        if (modulo == 0):\n",
    "            test_length_values.append(x)\n",
    "            print (x)\n",
    "    return (max(test_length_values))"
   ]
  },
  {
   "cell_type": "code",
   "execution_count": 75,
   "metadata": {},
   "outputs": [
    {
     "name": "stdout",
     "output_type": "stream",
     "text": [
      "4362\n",
      "4426\n",
      "4490\n",
      "4490\n",
      "448\n"
     ]
    }
   ],
   "source": [
    "test_length = get_test_length(df_data_1, batch_size)\n",
    "print(test_length)\n",
    "upper_test = test_length + timesteps*2\n",
    "testset_length = test_length - upper_train\n",
    "print (testset_length)"
   ]
  },
  {
   "cell_type": "code",
   "execution_count": 76,
   "metadata": {},
   "outputs": [
    {
     "name": "stdout",
     "output_type": "stream",
     "text": [
      "4042 4500 4512\n"
     ]
    }
   ],
   "source": [
    "print (upper_train, upper_test, len(df_data_1))"
   ]
  },
  {
   "cell_type": "code",
   "execution_count": 77,
   "metadata": {},
   "outputs": [],
   "source": [
    "# construct test set\n",
    "\n",
    "#subsetting\n",
    "df_data_1_test = df_data_1[upper_train:upper_test] \n",
    "test_set = df_data_1_test.values\n",
    "\n",
    "#scaling\n",
    "scaled_real_bcg_values_test = sc.fit_transform(np.float64(test_set))\n",
    "\n",
    "#creating input data\n",
    "X_test = []\n",
    "for i in range(timesteps, testset_length + timesteps):\n",
    "    X_test.append(scaled_real_bcg_values_test[i-timesteps:i, 0])\n",
    "X_test = np.array(X_test)\n",
    "\n",
    "\n",
    "#reshaping\n",
    "X_test = np.reshape(X_test, (X_test.shape[0], X_test.shape[1], 1))"
   ]
  },
  {
   "cell_type": "code",
   "execution_count": 78,
   "metadata": {},
   "outputs": [
    {
     "name": "stdout",
     "output_type": "stream",
     "text": [
      "(448, 5, 1)\n",
      "(448, 5)\n",
      "(443, 1)\n"
     ]
    }
   ],
   "source": [
    "#prediction\n",
    "predicted_bcg_values_test_mae = regressor_mae.predict(X_test, batch_size=batch_size)\n",
    "regressor_mae.reset_states()\n",
    "\n",
    "print (predicted_bcg_values_test_mae.shape)\n",
    "\n",
    "#reshaping\n",
    "predicted_bcg_values_test_mae = np.reshape(predicted_bcg_values_test_mae, \n",
    "                                       (predicted_bcg_values_test_mae.shape[0], \n",
    "                                        predicted_bcg_values_test_mae.shape[1]))\n",
    "\n",
    "print (predicted_bcg_values_test_mae.shape)\n",
    "#inverse transform\n",
    "predicted_bcg_values_test_mae = sc.inverse_transform(predicted_bcg_values_test_mae)\n",
    "\n",
    "\n",
    "#creating y_test data\n",
    "y_test = []\n",
    "for j in range(0, testset_length - timesteps):\n",
    "    y_test = np.append(y_test, predicted_bcg_values_test_mae[j, timesteps-1])\n",
    "\n",
    "# reshaping\n",
    "y_test = np.reshape(y_test, (y_test.shape[0], 1))\n",
    "\n",
    "print (y_test.shape)"
   ]
  },
  {
   "cell_type": "code",
   "execution_count": 79,
   "metadata": {},
   "outputs": [
    {
     "data": {
      "image/png": "[encoded data removed]",
      "text/plain": [
       "<Figure size 432x288 with 1 Axes>"
      ]
     },
     "metadata": {
      "needs_background": "light"
     },
     "output_type": "display_data"
    }
   ],
   "source": [
    "# Visualising the results\n",
    "plt.plot(test_set[timesteps:len(y_test)], color = 'red', label = 'Real Crude Oil Prices')\n",
    "plt.plot(y_test[0:len(y_test) - timesteps], color = 'blue', label = 'Predicted Crude Oil Prices')\n",
    "plt.title('Crude Oil Prices Prediction - MAE')\n",
    "plt.xlabel('Time')\n",
    "plt.ylabel('Crude Oil Prices')\n",
    "plt.legend()\n",
    "plt.show()"
   ]
  },
  {
   "cell_type": "code",
   "execution_count": 80,
   "metadata": {},
   "outputs": [
    {
     "name": "stdout",
     "output_type": "stream",
     "text": [
      "4.910834388695306\n"
     ]
    }
   ],
   "source": [
    "\n",
    "import math\n",
    "from sklearn.metrics import mean_squared_error\n",
    "rmse = math.sqrt(mean_squared_error(test_set[timesteps:len(y_test)], y_test[0:len(y_test) - timesteps]))\n",
    "print(rmse)"
   ]
  },
  {
   "cell_type": "code",
   "execution_count": 81,
   "metadata": {},
   "outputs": [
    {
     "name": "stdout",
     "output_type": "stream",
     "text": [
      "4.479323504373907\n"
     ]
    }
   ],
   "source": [
    "from sklearn.metrics import mean_absolute_error\n",
    "mae = mean_absolute_error(test_set[timesteps:len(y_test)], y_test[0:len(y_test) - timesteps])\n",
    "print(mae)"
   ]
  },
  {
   "cell_type": "code",
   "execution_count": null,
   "metadata": {},
   "outputs": [],
   "source": []
  }
 ],
 "metadata": {
  "kernelspec": {
   "display_name": "Python 3",
   "language": "python",
   "name": "python3"
  },
  "language_info": {
   "codemirror_mode": {
    "name": "ipython",
    "version": 3
   },
   "file_extension": ".py",
   "mimetype": "text/x-python",
   "name": "python",
   "nbconvert_exporter": "python",
   "pygments_lexer": "ipython3",
   "version": "3.7.9"
  }
 },
 "nbformat": 4,
 "nbformat_minor": 1
}
